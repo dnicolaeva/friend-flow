{
 "cells": [
  {
   "cell_type": "code",
   "execution_count": 46,
   "metadata": {
    "collapsed": false
   },
   "outputs": [
    {
     "name": "stdout",
     "output_type": "stream",
     "text": [
      "-0.15804807142857147\n"
     ]
    }
   ],
   "source": [
    "from alchemyapi import AlchemyAPI\n",
    "import json\n",
    "import sys\n",
    "\n",
    "def return_sentiments(d, week):\n",
    "    sentiments = {}\n",
    "    messages_dict = d[week]\n",
    "    for recipient in messages_dict:\n",
    "        text = messages_dict[recipient]\n",
    "        sentiments[recipient] = get_keywords(text)\n",
    "    return sentiments\n",
    "            \n",
    "\n",
    "def get_keywords(text):\n",
    "    score = 0\n",
    "    count = 0\n",
    "    alchemyapi = AlchemyAPI()\n",
    "    response = alchemyapi.keywords('text', text, {'sentiment': 1})\n",
    "    if response['status'] == 'OK':\n",
    "        for keyword in response['keywords']:\n",
    "            if 'score' in keyword['sentiment']:\n",
    "                count = count + 1\n",
    "                score = score + float(keyword['sentiment']['score'])\n",
    "    else:\n",
    "        print('Error in keyword extaction call: ', response['statusInfo'])\n",
    "    return score / count\n"
   ]
  },
  {
   "cell_type": "code",
   "execution_count": null,
   "metadata": {
    "collapsed": true
   },
   "outputs": [],
   "source": []
  }
 ],
 "metadata": {
  "kernelspec": {
   "display_name": "Python 3",
   "language": "python",
   "name": "python3"
  },
  "language_info": {
   "codemirror_mode": {
    "name": "ipython",
    "version": 3
   },
   "file_extension": ".py",
   "mimetype": "text/x-python",
   "name": "python",
   "nbconvert_exporter": "python",
   "pygments_lexer": "ipython3",
   "version": "3.4.3"
  }
 },
 "nbformat": 4,
 "nbformat_minor": 0
}
